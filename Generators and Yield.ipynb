{
 "cells": [
  {
   "cell_type": "code",
   "execution_count": 48,
   "metadata": {},
   "outputs": [],
   "source": [
    "import math"
   ]
  },
  {
   "cell_type": "markdown",
   "metadata": {},
   "source": [
    "https://jeffknupp.com/blog/2013/04/07/improve-your-python-yield-and-generators-explained/\n",
    "\n",
    "This notebook will walk through this article on yield and generators"
   ]
  },
  {
   "cell_type": "markdown",
   "metadata": {},
   "source": [
    "A Python *generator* is a function which returns a *generator iterator* by calling **yield**. The next time `next()` is called on the generator iterator, the generator resumes execution *from where it called `yield`, not from the beginning of the function*. "
   ]
  },
  {
   "cell_type": "markdown",
   "metadata": {},
   "source": [
    "Most functions return a single value, but sometimes it's better to have a function that yields a series of values instead. This requires the function to \"save its work\", in a way, rather than restarting from the top every time you call it. "
   ]
  },
  {
   "cell_type": "code",
   "execution_count": 2,
   "metadata": {},
   "outputs": [
    {
     "name": "stdout",
     "output_type": "stream",
     "text": [
      "0\n",
      "1\n",
      "2\n",
      "3\n",
      "4\n",
      "5\n",
      "6\n",
      "7\n",
      "8\n",
      "9\n",
      "10\n",
      "11\n",
      "12\n",
      "13\n",
      "14\n",
      "15\n",
      "16\n",
      "17\n",
      "18\n",
      "19\n"
     ]
    }
   ],
   "source": [
    "for x in range(20):\n",
    "    print(x)"
   ]
  },
  {
   "cell_type": "markdown",
   "metadata": {},
   "source": [
    "Every time I call the above function, it starts from the top and prints out all 20 values. The function can't save its place at say, 10, and then move on. "
   ]
  },
  {
   "cell_type": "markdown",
   "metadata": {},
   "source": [
    "A function that *could* do this wouldn't really \"return\" anything in the normal sense. `return` implies that the function is returning control of execution to the point where the function was called. In contrast, \"yield\" implies that the *transfer of control is temporary and voluntary*, and our function expects to regain it in the future."
   ]
  },
  {
   "cell_type": "markdown",
   "metadata": {},
   "source": [
    "These kinds of functions are known as `generators`. Outside of Python, these functions are generally referred to instead as `coroutines`, but all coroutines in Python is still a generator."
   ]
  },
  {
   "cell_type": "markdown",
   "metadata": {},
   "source": [
    "As an example, trying to write a function for prime numbers. If we ran a function on a very large list of numbers, the list would be so large that all the system's memory would be taken up. But the chokepoint is that a normal function **only gets one change to return results, and thus must return all results at once**. A `get_primes` function might be able to better handle lists of large numbers if it could just return the *next* value instead of all the values at once. If it was able to do this, it wouldn't need to create a list at all. "
   ]
  },
  {
   "cell_type": "markdown",
   "metadata": {},
   "source": [
    "If we tried doing something like this with a normal function, it'd get stuck, because the conditionality would cut it off early on and then it would just stick there. Instead of `return`, we need a way to generate a value, and when asked for the next one, pick up where we left off. Normal functions cannot do this, because when they return, they're done for good. Can't start it up again from a specific line. **Functions have a single entry point: the first line**. "
   ]
  },
  {
   "cell_type": "markdown",
   "metadata": {},
   "source": [
    "## Enter Generators"
   ]
  },
  {
   "cell_type": "markdown",
   "metadata": {},
   "source": [
    "A generator function is defined like a normal function, but whenever it needs to generate a value, it does so with the **yield** keyword rather than **return**. If the body of a `def` contains the `yield` function, the function automatically becomes a `generator function`. "
   ]
  },
  {
   "cell_type": "code",
   "execution_count": 10,
   "metadata": {},
   "outputs": [],
   "source": [
    "def simple_generator_function():\n",
    "    for i in range(10):\n",
    "        yield(i)"
   ]
  },
  {
   "cell_type": "code",
   "execution_count": 11,
   "metadata": {},
   "outputs": [
    {
     "name": "stdout",
     "output_type": "stream",
     "text": [
      "0\n",
      "1\n",
      "2\n",
      "3\n",
      "4\n",
      "5\n",
      "6\n",
      "7\n",
      "8\n",
      "9\n"
     ]
    }
   ],
   "source": [
    "for value in simple_generator_function():\n",
    "    print(value)"
   ]
  },
  {
   "cell_type": "code",
   "execution_count": 12,
   "metadata": {},
   "outputs": [],
   "source": [
    "our_generator = simple_generator_function()"
   ]
  },
  {
   "cell_type": "code",
   "execution_count": 21,
   "metadata": {},
   "outputs": [
    {
     "data": {
      "text/plain": [
       "8"
      ]
     },
     "execution_count": 21,
     "metadata": {},
     "output_type": "execute_result"
    }
   ],
   "source": [
    "next(our_generator)"
   ]
  },
  {
   "cell_type": "markdown",
   "metadata": {},
   "source": [
    "Every time a `generator function` calls `yield`, the state of the generator is frozen: the values of all variables are saved and the next line of code to be executed is recorded until `next()` is called again. Once it is, the generator function picks up where it left off. If `next()` is never called again, the state recorded during the `yield` call is (eventually) discarded."
   ]
  },
  {
   "cell_type": "code",
   "execution_count": 22,
   "metadata": {},
   "outputs": [],
   "source": [
    "def get_primes(number):\n",
    "    while True:\n",
    "        if is_prime(number):\n",
    "            yield number\n",
    "        number += 1"
   ]
  },
  {
   "cell_type": "markdown",
   "metadata": {},
   "source": [
    "If a `generator function` calls `return` or reaches the end of its definition, a `StopIteration` exception is raised, signalling that the generator is exhausted. That's why there's a `while True` loop is present in `get_primes`. If it weren't, the first time `next()` was called, we would check if the number is prime and possible yield it. If `next()` were called again, it would add 1 to number and hit the end of the generator function. "
   ]
  },
  {
   "cell_type": "markdown",
   "metadata": {},
   "source": [
    "So the `while` loop is there to make sure we *never* reach the end of the generator. The following will *not* work:"
   ]
  },
  {
   "cell_type": "code",
   "execution_count": 23,
   "metadata": {},
   "outputs": [],
   "source": [
    "our_generator = simple_generator_function()"
   ]
  },
  {
   "cell_type": "code",
   "execution_count": 24,
   "metadata": {},
   "outputs": [
    {
     "name": "stdout",
     "output_type": "stream",
     "text": [
      "0\n",
      "1\n",
      "2\n",
      "3\n",
      "4\n",
      "5\n",
      "6\n",
      "7\n",
      "8\n",
      "9\n"
     ]
    }
   ],
   "source": [
    "for value in our_generator:\n",
    "    print(value)"
   ]
  },
  {
   "cell_type": "code",
   "execution_count": 25,
   "metadata": {},
   "outputs": [
    {
     "ename": "StopIteration",
     "evalue": "",
     "output_type": "error",
     "traceback": [
      "\u001b[1;31m---------------------------------------------------------------------------\u001b[0m",
      "\u001b[1;31mStopIteration\u001b[0m                             Traceback (most recent call last)",
      "\u001b[1;32m<ipython-input-25-53f126310cb8>\u001b[0m in \u001b[0;36m<module>\u001b[1;34m\u001b[0m\n\u001b[1;32m----> 1\u001b[1;33m \u001b[0mprint\u001b[0m\u001b[1;33m(\u001b[0m\u001b[0mnext\u001b[0m\u001b[1;33m(\u001b[0m\u001b[0mour_generator\u001b[0m\u001b[1;33m)\u001b[0m\u001b[1;33m)\u001b[0m\u001b[1;33m\u001b[0m\u001b[1;33m\u001b[0m\u001b[0m\n\u001b[0m",
      "\u001b[1;31mStopIteration\u001b[0m: "
     ]
    }
   ],
   "source": [
    "print(next(our_generator))"
   ]
  },
  {
   "cell_type": "markdown",
   "metadata": {},
   "source": [
    "Why doesn't it work? The generator was already exhausted when it was iterated through. But we can always create a new generator by calling the function again."
   ]
  },
  {
   "cell_type": "code",
   "execution_count": 38,
   "metadata": {},
   "outputs": [],
   "source": [
    "our_generator = simple_generator_function()"
   ]
  },
  {
   "cell_type": "code",
   "execution_count": 39,
   "metadata": {},
   "outputs": [
    {
     "name": "stdout",
     "output_type": "stream",
     "text": [
      "0\n"
     ]
    }
   ],
   "source": [
    "print(next(our_generator))"
   ]
  },
  {
   "cell_type": "code",
   "execution_count": 44,
   "metadata": {},
   "outputs": [],
   "source": [
    "def is_prime(number):\n",
    "    if number > 1:\n",
    "        if number == 2:\n",
    "            return True\n",
    "        if number % 2 == 0:\n",
    "            return False\n",
    "        for current in range(3, int(math.sqrt(number) + 1), 2):\n",
    "            if number % current == 0:\n",
    "                return False\n",
    "        return True\n",
    "    return False"
   ]
  },
  {
   "cell_type": "code",
   "execution_count": 45,
   "metadata": {},
   "outputs": [],
   "source": [
    "def get_primes(number):\n",
    "    while True:\n",
    "        if is_prime(number):\n",
    "            yield number\n",
    "        number += 1"
   ]
  },
  {
   "cell_type": "code",
   "execution_count": 46,
   "metadata": {},
   "outputs": [],
   "source": [
    "def solve_number_10():\n",
    "    total = 2\n",
    "    for next_prime in get_primes(3):\n",
    "        if next_prime < 2000000:\n",
    "            total += next_prime\n",
    "        else:\n",
    "            print(total)\n",
    "            return"
   ]
  },
  {
   "cell_type": "markdown",
   "metadata": {},
   "source": [
    "1. Enter the `while` loop on line 3.\n",
    "2. `if` condition holds (3 is prime). \n",
    "3. Yield the value 3 and control back to `solve_number_10`"
   ]
  },
  {
   "cell_type": "markdown",
   "metadata": {},
   "source": [
    "Then, back in `solve_number_10':\n",
    "1. The value 3 is passed back to the for loop.\n",
    "2. The for loop assigns `next_prime` to this value.\n",
    "3. `next_prime` is added to `total`. \n",
    "4. The for loop requests the next element from `get_primes`"
   ]
  },
  {
   "cell_type": "markdown",
   "metadata": {},
   "source": [
    "Except this time, instead of entering `get_primes` back at the top and starting all over again, we resume at line 5, where we left off. `number` will *still have the same value it did when we called `yield`*. So, `number` is then incremented to 4, we hit the top of the `while` loop, and keep incrementing `number` until we hit the next prime number. This cycle will continue until the for loop stops at the first prime greater than 2,000,000."
   ]
  },
  {
   "cell_type": "code",
   "execution_count": 49,
   "metadata": {},
   "outputs": [
    {
     "name": "stdout",
     "output_type": "stream",
     "text": [
      "142913828922\n"
     ]
    }
   ],
   "source": [
    "solve_number_10()"
   ]
  },
  {
   "cell_type": "markdown",
   "metadata": {},
   "source": [
    "Holy cow, that was fast."
   ]
  },
  {
   "cell_type": "markdown",
   "metadata": {},
   "source": [
    "PEP 342 added support for passing values *into* generators. So generators now have the power to yield a value, *receive* a value, or both yield a value *and* receive a (possibly different) value in a single statement."
   ]
  },
  {
   "cell_type": "code",
   "execution_count": 51,
   "metadata": {},
   "outputs": [],
   "source": [
    "def get_primes(number):\n",
    "    while True:\n",
    "        if is_prime(number):\n",
    "            number = yield number\n",
    "        number += 1"
   ]
  },
  {
   "cell_type": "markdown",
   "metadata": {},
   "source": [
    "`other = yield foo1` means, \"yield `foo` and when a value is sent to me, set `other` to that value.\" You can send values to a generator by using the generators `send` method. "
   ]
  },
  {
   "cell_type": "code",
   "execution_count": 53,
   "metadata": {},
   "outputs": [],
   "source": [
    "def print_successive_primes(iterations, base=10):\n",
    "    prime_generator = get_primes(base)\n",
    "    prime_generator.send(None)\n",
    "    for power in range(iterations):\n",
    "        print(prime_generator.send(base ** power))"
   ]
  },
  {
   "cell_type": "code",
   "execution_count": 55,
   "metadata": {},
   "outputs": [
    {
     "name": "stdout",
     "output_type": "stream",
     "text": [
      "2\n",
      "11\n",
      "101\n",
      "1009\n",
      "10007\n",
      "100003\n",
      "1000003\n",
      "10000019\n",
      "100000007\n",
      "1000000007\n"
     ]
    }
   ],
   "source": [
    "print_successive_primes(10)"
   ]
  },
  {
   "cell_type": "markdown",
   "metadata": {},
   "source": [
    "We're printing the result of `generator.send`, which is possible because `send` both sends a value to the generator *and* returns the value yielded by the generator. So we're sending it a number equivalent to the base raised to some power, `get_primes` then loops through until it finds the next prime from that base number, and yields that number, which is returned by the same `send` function!"
   ]
  },
  {
   "cell_type": "markdown",
   "metadata": {},
   "source": [
    "`prime_generator.send(None)` line. When using send to start a generatr, you must send `None`. The generator hasn't gotten to the first `yield` statement yet, so if we sent a real value, there would be nothing to receive it. The generator has to get started up first."
   ]
  }
 ],
 "metadata": {
  "kernelspec": {
   "display_name": "Python 3",
   "language": "python",
   "name": "python3"
  },
  "language_info": {
   "codemirror_mode": {
    "name": "ipython",
    "version": 3
   },
   "file_extension": ".py",
   "mimetype": "text/x-python",
   "name": "python",
   "nbconvert_exporter": "python",
   "pygments_lexer": "ipython3",
   "version": "3.7.3"
  }
 },
 "nbformat": 4,
 "nbformat_minor": 2
}
